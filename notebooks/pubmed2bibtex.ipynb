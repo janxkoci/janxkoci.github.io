{
 "cells": [
  {
   "cell_type": "markdown",
   "id": "1ef7a411-a3b4-49e0-a62f-8bd5397cc13a",
   "metadata": {},
   "source": [
    "# Getting BibTeX bibliography from PubMed with R, rentrez, and glue\n",
    "I've spent a few days trying to find a tool that would take a list of publications from PubMed (formatted as either XML or JSON) and convert it to BibTeX, so I could use it for our lab website, built with Jekyll at Github Pages. Our site template uses jekyll-scholar plugin, which can use a BibTeX file to auto-generate list of publications - neat!\n",
    "\n",
    "I couldn't find any such tool though, or at least not any tool still working in 2025. But I know the `rentrez` library for R could get me part of the way to what I need, and then it's just a matter of some R coding to get the final file, hopefully. In the end, the `glue` library was surprisingly helpful with this task, and turned my greatest worry - BibTeX output - into a trivial excercise. Keep reading to learn how I solved the problem.\n",
    "\n",
    "We start by loading the necessary libraries:"
   ]
  },
  {
   "cell_type": "code",
   "execution_count": 1,
   "id": "914068db-27fa-438a-80ef-da42e6b0232b",
   "metadata": {
    "scrolled": true
   },
   "outputs": [
    {
     "name": "stderr",
     "output_type": "stream",
     "text": [
      "── \u001b[1mAttaching core tidyverse packages\u001b[22m ──────────────────────────────────────────────────────────────── tidyverse 2.0.0 ──\n",
      "\u001b[32m✔\u001b[39m \u001b[34mdplyr    \u001b[39m 1.1.4     \u001b[32m✔\u001b[39m \u001b[34mreadr    \u001b[39m 2.1.5\n",
      "\u001b[32m✔\u001b[39m \u001b[34mforcats  \u001b[39m 1.0.0     \u001b[32m✔\u001b[39m \u001b[34mstringr  \u001b[39m 1.5.1\n",
      "\u001b[32m✔\u001b[39m \u001b[34mggplot2  \u001b[39m 3.5.2     \u001b[32m✔\u001b[39m \u001b[34mtibble   \u001b[39m 3.3.0\n",
      "\u001b[32m✔\u001b[39m \u001b[34mlubridate\u001b[39m 1.9.4     \u001b[32m✔\u001b[39m \u001b[34mtidyr    \u001b[39m 1.3.1\n",
      "\u001b[32m✔\u001b[39m \u001b[34mpurrr    \u001b[39m 1.1.0     \n",
      "── \u001b[1mConflicts\u001b[22m ────────────────────────────────────────────────────────────────────────────────── tidyverse_conflicts() ──\n",
      "\u001b[31m✖\u001b[39m \u001b[34mdplyr\u001b[39m::\u001b[32mfilter()\u001b[39m masks \u001b[34mstats\u001b[39m::filter()\n",
      "\u001b[31m✖\u001b[39m \u001b[34mdplyr\u001b[39m::\u001b[32mlag()\u001b[39m    masks \u001b[34mstats\u001b[39m::lag()\n",
      "\u001b[36mℹ\u001b[39m Use the conflicted package (\u001b[3m\u001b[34m<http://conflicted.r-lib.org/>\u001b[39m\u001b[23m) to force all conflicts to become errors\n",
      "\n",
      "Attaching package: ‘magrittr’\n",
      "\n",
      "\n",
      "The following object is masked from ‘package:purrr’:\n",
      "\n",
      "    set_names\n",
      "\n",
      "\n",
      "The following object is masked from ‘package:tidyr’:\n",
      "\n",
      "    extract\n",
      "\n",
      "\n"
     ]
    }
   ],
   "source": [
    "library(rentrez)\n",
    "library(tidyverse)\n",
    "library(magrittr)\n",
    "library(glue)"
   ]
  },
  {
   "cell_type": "markdown",
   "id": "c416ea2c-99cf-487a-8040-dd9a1a7ec931",
   "metadata": {},
   "source": [
    "## rentrez queries\n",
    "The `rentrez` library allows an R programmer to query the NCBI databases, including PubMed, directly from R code. This means I can always get the latest results, rather than just converting a data file obtained by other means.\n",
    "\n",
    "Now, we need a search term:"
   ]
  },
  {
   "cell_type": "code",
   "execution_count": 2,
   "id": "c96c0885-920b-4364-bcc6-59fda0614e06",
   "metadata": {},
   "outputs": [],
   "source": [
    "search_term = \"\\\"flegontov p\\\"[au] OR \\\"flegontov pn\\\"[au]\""
   ]
  },
  {
   "cell_type": "markdown",
   "id": "a00cf1bc-817e-4d9d-a96c-8fead81f675e",
   "metadata": {},
   "source": [
    "A quick [refresher on using the search](https://janxkoci.github.io/tutorials/rentrez.html#search--links) - we can use e.g. the `str` function to have a quick look at a structure of the information returned from a search:"
   ]
  },
  {
   "cell_type": "code",
   "execution_count": 3,
   "id": "e6a36674-b679-42d0-9660-b32da9f8add5",
   "metadata": {},
   "outputs": [
    {
     "name": "stdout",
     "output_type": "stream",
     "text": [
      "List of 5\n",
      " $ ids             : chr [1:20] \"40604287\" \"40454862\" \"40169722\" \"39979458\" ...\n",
      " $ count           : int 57\n",
      " $ retmax          : int 20\n",
      " $ QueryTranslation: chr \"\\\"flegontov p\\\"[Author] OR \\\"flegontov pn\\\"[Author]\"\n",
      " $ file            :Classes 'XMLInternalDocument', 'XMLAbstractDocument' <externalptr> \n",
      " - attr(*, \"class\")= chr [1:2] \"esearch\" \"list\"\n"
     ]
    }
   ],
   "source": [
    "entrez_search(db = \"pubmed\", term = search_term) %>% str"
   ]
  },
  {
   "attachments": {},
   "cell_type": "markdown",
   "id": "f58fba09-1ced-4834-a897-72ad1bde96c7",
   "metadata": {},
   "source": [
    "We see the total number of records found under `$count`, while the NCBI IDs themselves are under `$ids`. See also that `retmax` is by default set to 20, so we will save the `count` info to take all the records instead.\n",
    "\n",
    "Using search, we pull the data into a list. NCBI supports two modes (set with `retmode`) - XML and JSON. XML is the legacy mode, while JSON is the new way of obtaining information, because its structure fits better with data structures in programming languages (such as lists in R, or dictionaries in Python). I use `retmode = \"json\"` because the resulting list is easier to work with. For example, authors are provided in form of a `data.frame`, rather than a nested list as with XML."
   ]
  },
  {
   "cell_type": "code",
   "execution_count": 4,
   "id": "65674107-bcbf-4546-a043-0a7d419a5ffd",
   "metadata": {},
   "outputs": [],
   "source": [
    "## number of publications\n",
    "npubs = entrez_search(db = \"pubmed\", term = search_term)$count\n",
    "## get ncbi uids\n",
    "ncbi_ids = entrez_search(db = \"pubmed\", term = search_term, retmax = npubs)$ids\n",
    "## get all publications as json, save into list object\n",
    "esummary = entrez_summary(db = \"pubmed\", id = ncbi_ids, retmode = \"json\")"
   ]
  },
  {
   "cell_type": "markdown",
   "id": "ad853a9b-b604-48d6-954c-f9ec2c6dc3ea",
   "metadata": {},
   "source": [
    "The result is a list of records, so getting a total count of publications is as simple as looking at the length of the list:"
   ]
  },
  {
   "cell_type": "code",
   "execution_count": 5,
   "id": "fd888de7-a866-412b-8f28-30e4e3396770",
   "metadata": {},
   "outputs": [
    {
     "data": {
      "text/html": [
       "57"
      ],
      "text/latex": [
       "57"
      ],
      "text/markdown": [
       "57"
      ],
      "text/plain": [
       "[1] 57"
      ]
     },
     "metadata": {},
     "output_type": "display_data"
    }
   ],
   "source": [
    "esummary %>% length"
   ]
  },
  {
   "cell_type": "markdown",
   "id": "34a15c25-d2d6-4b67-95a4-c8fb2c2a53f7",
   "metadata": {},
   "source": [
    "Looking at the first record, we can see a complex nested list, with some items represented as vectors (e.g. `pubtype`) or even data frames:"
   ]
  },
  {
   "cell_type": "code",
   "execution_count": 6,
   "id": "8192d11f-65aa-4083-9f19-90cd1f31c91b",
   "metadata": {
    "scrolled": true
   },
   "outputs": [
    {
     "name": "stdout",
     "output_type": "stream",
     "text": [
      "List of 1\n",
      " $ 40604287:List of 43\n",
      "  ..$ uid              : chr \"40604287\"\n",
      "  ..$ pubdate          : chr \"2025 Aug\"\n",
      "  ..$ epubdate         : chr \"2025 Jul 2\"\n",
      "  ..$ source           : chr \"Nature\"\n",
      "  ..$ authors          :'data.frame':\t71 obs. of  3 variables:\n",
      "  .. ..$ name     : chr [1:71] \"Zeng TC\" \"Vyazov LA\" \"Kim A\" \"Flegontov P\" ...\n",
      "  .. ..$ authtype : chr [1:71] \"Author\" \"Author\" \"Author\" \"Author\" ...\n",
      "  .. ..$ clusterid: chr [1:71] \"\" \"\" \"\" \"\" ...\n",
      "  ..$ lastauthor       : chr \"Reich D\"\n",
      "  ..$ title            : chr \"Ancient DNA reveals the prehistory of the Uralic and Yeniseian peoples.\"\n",
      "  ..$ sorttitle        : chr \"ancient dna reveals the prehistory of the uralic and yeniseian peoples\"\n",
      "  ..$ volume           : chr \"644\"\n",
      "  ..$ issue            : chr \"8075\"\n",
      "  ..$ pages            : chr \"122-132\"\n",
      "  ..$ lang             : chr \"eng\"\n",
      "  ..$ nlmuniqueid      : chr \"0410462\"\n",
      "  ..$ issn             : chr \"0028-0836\"\n",
      "  ..$ essn             : chr \"1476-4687\"\n",
      "  ..$ pubtype          : chr [1:2] \"Journal Article\" \"Historical Article\"\n",
      "  ..$ recordstatus     : chr \"PubMed - indexed for MEDLINE\"\n",
      "  ..$ pubstatus        : chr \"256\"\n",
      "  ..$ articleids       :'data.frame':\t6 obs. of  3 variables:\n",
      "  .. ..$ idtype : chr [1:6] \"pubmed\" \"mid\" \"pmc\" \"pmcid\" ...\n",
      "  .. ..$ idtypen: int [1:6] 1 8 8 5 3 4\n",
      "  .. ..$ value  : chr [1:6] \"40604287\" \"NIHMS2095973\" \"PMC12342343\" \"pmc-id: PMC12342343;manuscript-id: NIHMS2095973;\" ...\n",
      "  ..$ history          :'data.frame':\t6 obs. of  2 variables:\n",
      "  .. ..$ pubstatus: chr [1:6] \"received\" \"accepted\" \"medline\" \"pubmed\" ...\n",
      "  .. ..$ date     : chr [1:6] \"2023/09/12 00:00\" \"2025/05/23 00:00\" \"2025/08/07 06:26\" \"2025/07/03 06:28\" ...\n",
      "  ..$ references       : list()\n",
      "  ..$ attributes       : chr \"Has Abstract\"\n",
      "  ..$ pmcrefcount      : int 83\n",
      "  ..$ fulljournalname  : chr \"Nature\"\n",
      "  ..$ elocationid      : chr \"doi: 10.1038/s41586-025-09189-3\"\n",
      "  ..$ doctype          : chr \"citation\"\n",
      "  ..$ srccontriblist   : list()\n",
      "  ..$ booktitle        : chr \"\"\n",
      "  ..$ medium           : chr \"\"\n",
      "  ..$ edition          : chr \"\"\n",
      "  ..$ publisherlocation: chr \"\"\n",
      "  ..$ publishername    : chr \"\"\n",
      "  ..$ srcdate          : chr \"\"\n",
      "  ..$ reportnumber     : chr \"\"\n",
      "  ..$ availablefromurl : chr \"\"\n",
      "  ..$ locationlabel    : chr \"\"\n",
      "  ..$ doccontriblist   : list()\n",
      "  ..$ docdate          : chr \"\"\n",
      "  ..$ bookname         : chr \"\"\n",
      "  ..$ chapter          : chr \"\"\n",
      "  ..$ sortpubdate      : chr \"2025/08/01 00:00\"\n",
      "  ..$ sortfirstauthor  : chr \"Zeng TC\"\n",
      "  ..$ vernaculartitle  : chr \"\"\n",
      "  ..- attr(*, \"class\")= chr [1:2] \"esummary\" \"list\"\n"
     ]
    }
   ],
   "source": [
    "esummary[1] %>% str"
   ]
  },
  {
   "cell_type": "markdown",
   "id": "3874af70-cb5e-4694-8c6e-c124e69c760f",
   "metadata": {},
   "source": [
    "And here are names of all the items that can be obtained from a record:"
   ]
  },
  {
   "cell_type": "code",
   "execution_count": 7,
   "id": "4c8f6615-7585-4a46-8f13-397a04543e2a",
   "metadata": {},
   "outputs": [
    {
     "name": "stdout",
     "output_type": "stream",
     "text": [
      " [1] \"uid\"               \"pubdate\"           \"epubdate\"         \n",
      " [4] \"source\"            \"authors\"           \"lastauthor\"       \n",
      " [7] \"title\"             \"sorttitle\"         \"volume\"           \n",
      "[10] \"issue\"             \"pages\"             \"lang\"             \n",
      "[13] \"nlmuniqueid\"       \"issn\"              \"essn\"             \n",
      "[16] \"pubtype\"           \"recordstatus\"      \"pubstatus\"        \n",
      "[19] \"articleids\"        \"history\"           \"references\"       \n",
      "[22] \"attributes\"        \"pmcrefcount\"       \"fulljournalname\"  \n",
      "[25] \"elocationid\"       \"doctype\"           \"srccontriblist\"   \n",
      "[28] \"booktitle\"         \"medium\"            \"edition\"          \n",
      "[31] \"publisherlocation\" \"publishername\"     \"srcdate\"          \n",
      "[34] \"reportnumber\"      \"availablefromurl\"  \"locationlabel\"    \n",
      "[37] \"doccontriblist\"    \"docdate\"           \"bookname\"         \n",
      "[40] \"chapter\"           \"sortpubdate\"       \"sortfirstauthor\"  \n",
      "[43] \"vernaculartitle\"  \n"
     ]
    }
   ],
   "source": [
    "esummary[[1]] %>% names %>% print"
   ]
  },
  {
   "cell_type": "markdown",
   "id": "0478df24-be7a-47e5-b727-ce3ff56c061b",
   "metadata": {},
   "source": [
    "The items can be manipulated by names, as follows:"
   ]
  },
  {
   "cell_type": "code",
   "execution_count": 8,
   "id": "cd737263-81af-4361-a30a-ffe566f0159a",
   "metadata": {},
   "outputs": [
    {
     "name": "stdout",
     "output_type": "stream",
     "text": [
      "$fulljournalname\n",
      "[1] \"Nature\"\n",
      "\n",
      "$pubdate\n",
      "[1] \"2025 Aug\"\n",
      "\n"
     ]
    }
   ],
   "source": [
    "esummary[[1]][c(\"fulljournalname\",\"pubdate\")] %>% print"
   ]
  },
  {
   "cell_type": "markdown",
   "id": "14a9328a-10aa-432e-af2e-adf7e33f9b0f",
   "metadata": {},
   "source": [
    "Later, I will instead use helper functions from the `magrittr` package, such as `use_series` (instead of `$`) or `extract` (instead of `[]`), as they fit better within complex pipelines. So the above example will look like this:"
   ]
  },
  {
   "cell_type": "code",
   "execution_count": 9,
   "id": "3cd6a0cc-ea89-49af-b496-f796a6288b1d",
   "metadata": {},
   "outputs": [
    {
     "name": "stdout",
     "output_type": "stream",
     "text": [
      "$fulljournalname\n",
      "[1] \"Nature\"\n",
      "\n",
      "$pubdate\n",
      "[1] \"2025 Aug\"\n",
      "\n"
     ]
    }
   ],
   "source": [
    "esummary[[1]] %>% extract(c(\"fulljournalname\",\"pubdate\")) %>% print"
   ]
  },
  {
   "cell_type": "markdown",
   "id": "4146bc23-a455-48b5-b133-743f9a08b508",
   "metadata": {},
   "source": [
    "We can have a look at a few summaries:"
   ]
  },
  {
   "cell_type": "code",
   "execution_count": 10,
   "id": "bc1cf05a-e57d-446e-a009-8c2bfedede24",
   "metadata": {},
   "outputs": [
    {
     "name": "stdout",
     "output_type": "stream",
     "text": [
      "\u001b[90m# A tibble: 5 × 2\u001b[39m\n",
      "  .                                        n\n",
      "  \u001b[3m\u001b[90m<chr>\u001b[39m\u001b[23m                                \u001b[3m\u001b[90m<int>\u001b[39m\u001b[23m\n",
      "\u001b[90m1\u001b[39m Journal Article                         47\n",
      "\u001b[90m2\u001b[39m Journal Article - Review                 4\n",
      "\u001b[90m3\u001b[39m Historical Article - Journal Article     3\n",
      "\u001b[90m4\u001b[39m Journal Article - Historical Article     2\n",
      "\u001b[90m5\u001b[39m Published Erratum                        1\n"
     ]
    }
   ],
   "source": [
    "esummary %>% \n",
    "    extract_from_esummary(\"pubtype\") %>% \n",
    "    lapply(paste, collapse = \" - \") %>% \n",
    "    unlist %>% table %>% sort(decreasing = T) %>% as_tibble %>% print"
   ]
  },
  {
   "cell_type": "markdown",
   "id": "d4f2733d-68b6-4dba-87f2-dbbb11be0803",
   "metadata": {},
   "source": [
    "Here are journals, with a bit of format processing:"
   ]
  },
  {
   "cell_type": "code",
   "execution_count": 11,
   "id": "b79358e0-57f1-40c7-a93f-64d1ad2e049d",
   "metadata": {},
   "outputs": [
    {
     "name": "stdout",
     "output_type": "stream",
     "text": [
      "\u001b[90m# A tibble: 31 × 2\u001b[39m\n",
      "   .                                            n\n",
      "   \u001b[3m\u001b[90m<chr>\u001b[39m\u001b[23m                                    \u001b[3m\u001b[90m<int>\u001b[39m\u001b[23m\n",
      "\u001b[90m 1\u001b[39m \u001b[90m\"\u001b[39mScientific reports\u001b[90m\"\u001b[39m                         7\n",
      "\u001b[90m 2\u001b[39m \u001b[90m\"\u001b[39mbioRxiv \u001b[90m\"\u001b[39m                                   5\n",
      "\u001b[90m 3\u001b[39m \u001b[90m\"\u001b[39mNature\u001b[90m\"\u001b[39m                                     4\n",
      "\u001b[90m 4\u001b[39m \u001b[90m\"\u001b[39mGenome biology and evolution\u001b[90m\"\u001b[39m               3\n",
      "\u001b[90m 5\u001b[39m \u001b[90m\"\u001b[39mPLoS genetics\u001b[90m\"\u001b[39m                              3\n",
      "\u001b[90m 6\u001b[39m \u001b[90m\"\u001b[39mCurrent biology \u001b[90m\"\u001b[39m                           2\n",
      "\u001b[90m 7\u001b[39m \u001b[90m\"\u001b[39meLife\u001b[90m\"\u001b[39m                                      2\n",
      "\u001b[90m 8\u001b[39m \u001b[90m\"\u001b[39mEnvironmental microbiology\u001b[90m\"\u001b[39m                 2\n",
      "\u001b[90m 9\u001b[39m \u001b[90m\"\u001b[39mGenetics\u001b[90m\"\u001b[39m                                   2\n",
      "\u001b[90m10\u001b[39m \u001b[90m\"\u001b[39mMolecular and biochemical parasitology\u001b[90m\"\u001b[39m     2\n",
      "\u001b[90m# ℹ 21 more rows\u001b[39m\n"
     ]
    }
   ],
   "source": [
    "esummary %>% \n",
    "    extract_from_esummary(\"fulljournalname\") %>% \n",
    "    lapply(., function(x) gsub(\":.*\", \"\", x)) %>% # some journals seem to use sub-title too\n",
    "    unlist %>% table %>% sort(decreasing = T) %>% as_tibble %>% print"
   ]
  },
  {
   "cell_type": "markdown",
   "id": "e1d3d6e4-1ace-4db4-bf1b-c382fc0c2cfd",
   "metadata": {},
   "source": [
    "The `source` item may be even more useful, as it's already formatted the way most people like:"
   ]
  },
  {
   "cell_type": "code",
   "execution_count": 12,
   "id": "c707b507-4c1f-450b-899f-d7433894ea65",
   "metadata": {},
   "outputs": [
    {
     "name": "stdout",
     "output_type": "stream",
     "text": [
      "\u001b[90m# A tibble: 31 × 2\u001b[39m\n",
      "   .                         n\n",
      "   \u001b[3m\u001b[90m<chr>\u001b[39m\u001b[23m                 \u001b[3m\u001b[90m<int>\u001b[39m\u001b[23m\n",
      "\u001b[90m 1\u001b[39m Sci Rep                   7\n",
      "\u001b[90m 2\u001b[39m bioRxiv                   5\n",
      "\u001b[90m 3\u001b[39m Nature                    4\n",
      "\u001b[90m 4\u001b[39m Genome Biol Evol          3\n",
      "\u001b[90m 5\u001b[39m PLoS Genet                3\n",
      "\u001b[90m 6\u001b[39m Curr Biol                 2\n",
      "\u001b[90m 7\u001b[39m Elife                     2\n",
      "\u001b[90m 8\u001b[39m Environ Microbiol         2\n",
      "\u001b[90m 9\u001b[39m Genetics                  2\n",
      "\u001b[90m10\u001b[39m Mol Biochem Parasitol     2\n",
      "\u001b[90m# ℹ 21 more rows\u001b[39m\n"
     ]
    }
   ],
   "source": [
    "esummary %>% \n",
    "    extract_from_esummary(\"source\") %>% \n",
    "    unlist %>% table %>% sort(decreasing = T) %>% as_tibble %>% print"
   ]
  },
  {
   "cell_type": "markdown",
   "id": "f88938c5-dda0-43e9-8452-1b16c19c8e50",
   "metadata": {},
   "source": [
    "## Extracting data\n",
    "As we have seen, the data returned by PubMed have structure of a nested list. Some items are at the top level, like `fulljournalname` or `title`, while other items are nested within the list, like `authors` or `articleids`.\n",
    "\n",
    "Getting all items at once is not easy, so a better approach is to extract first the easy items into a data frame, and then add new columns with processed information from the more complex items."
   ]
  },
  {
   "cell_type": "markdown",
   "id": "46e28190-bd24-4f7d-af07-0b8d66f4f2f7",
   "metadata": {},
   "source": [
    "For example, to extract DOI, we need to parse a data frame out of the list first:"
   ]
  },
  {
   "cell_type": "code",
   "execution_count": 13,
   "id": "cc68879b-a06d-46b0-adcb-ac7172883f5b",
   "metadata": {},
   "outputs": [
    {
     "data": {
      "text/html": [
       "<table class=\"dataframe\">\n",
       "<caption>A data.frame: 6 × 3</caption>\n",
       "<thead>\n",
       "\t<tr><th></th><th scope=col>idtype</th><th scope=col>idtypen</th><th scope=col>value</th></tr>\n",
       "\t<tr><th></th><th scope=col>&lt;chr&gt;</th><th scope=col>&lt;int&gt;</th><th scope=col>&lt;chr&gt;</th></tr>\n",
       "</thead>\n",
       "<tbody>\n",
       "\t<tr><th scope=row>1</th><td>pubmed</td><td>1</td><td>40604287                                        </td></tr>\n",
       "\t<tr><th scope=row>2</th><td>mid   </td><td>8</td><td>NIHMS2095973                                    </td></tr>\n",
       "\t<tr><th scope=row>3</th><td>pmc   </td><td>8</td><td>PMC12342343                                     </td></tr>\n",
       "\t<tr><th scope=row>4</th><td>pmcid </td><td>5</td><td>pmc-id: PMC12342343;manuscript-id: NIHMS2095973;</td></tr>\n",
       "\t<tr><th scope=row>5</th><td>doi   </td><td>3</td><td>10.1038/s41586-025-09189-3                      </td></tr>\n",
       "\t<tr><th scope=row>6</th><td>pii   </td><td>4</td><td>10.1038/s41586-025-09189-3                      </td></tr>\n",
       "</tbody>\n",
       "</table>\n"
      ],
      "text/latex": [
       "A data.frame: 6 × 3\n",
       "\\begin{tabular}{r|lll}\n",
       "  & idtype & idtypen & value\\\\\n",
       "  & <chr> & <int> & <chr>\\\\\n",
       "\\hline\n",
       "\t1 & pubmed & 1 & 40604287                                        \\\\\n",
       "\t2 & mid    & 8 & NIHMS2095973                                    \\\\\n",
       "\t3 & pmc    & 8 & PMC12342343                                     \\\\\n",
       "\t4 & pmcid  & 5 & pmc-id: PMC12342343;manuscript-id: NIHMS2095973;\\\\\n",
       "\t5 & doi    & 3 & 10.1038/s41586-025-09189-3                      \\\\\n",
       "\t6 & pii    & 4 & 10.1038/s41586-025-09189-3                      \\\\\n",
       "\\end{tabular}\n"
      ],
      "text/markdown": [
       "\n",
       "A data.frame: 6 × 3\n",
       "\n",
       "| <!--/--> | idtype &lt;chr&gt; | idtypen &lt;int&gt; | value &lt;chr&gt; |\n",
       "|---|---|---|---|\n",
       "| 1 | pubmed | 1 | 40604287                                         |\n",
       "| 2 | mid    | 8 | NIHMS2095973                                     |\n",
       "| 3 | pmc    | 8 | PMC12342343                                      |\n",
       "| 4 | pmcid  | 5 | pmc-id: PMC12342343;manuscript-id: NIHMS2095973; |\n",
       "| 5 | doi    | 3 | 10.1038/s41586-025-09189-3                       |\n",
       "| 6 | pii    | 4 | 10.1038/s41586-025-09189-3                       |\n",
       "\n"
      ],
      "text/plain": [
       "  idtype idtypen value                                           \n",
       "1 pubmed 1       40604287                                        \n",
       "2 mid    8       NIHMS2095973                                    \n",
       "3 pmc    8       PMC12342343                                     \n",
       "4 pmcid  5       pmc-id: PMC12342343;manuscript-id: NIHMS2095973;\n",
       "5 doi    3       10.1038/s41586-025-09189-3                      \n",
       "6 pii    4       10.1038/s41586-025-09189-3                      "
      ]
     },
     "metadata": {},
     "output_type": "display_data"
    }
   ],
   "source": [
    "esummary[[1]] %>% use_series(articleids)"
   ]
  },
  {
   "cell_type": "markdown",
   "id": "b9ccecca-78e9-44ac-9f78-6c952c4d2411",
   "metadata": {},
   "source": [
    "Extracting just the DOI then looks like this:"
   ]
  },
  {
   "cell_type": "code",
   "execution_count": 14,
   "id": "a651d451-c98e-4a23-b4e7-3a6e6d3c2575",
   "metadata": {},
   "outputs": [
    {
     "data": {
      "text/html": [
       "'10.1038/s41586-025-09189-3'"
      ],
      "text/latex": [
       "'10.1038/s41586-025-09189-3'"
      ],
      "text/markdown": [
       "'10.1038/s41586-025-09189-3'"
      ],
      "text/plain": [
       "[1] \"10.1038/s41586-025-09189-3\""
      ]
     },
     "metadata": {},
     "output_type": "display_data"
    }
   ],
   "source": [
    "esummary[[1]] %>% use_series(articleids) %>% \n",
    "    subset(idtype == \"doi\", select = value) %>% \n",
    "    pluck(1) # return scalar, not list"
   ]
  },
  {
   "cell_type": "markdown",
   "id": "5653685d-fff4-4b3a-b24f-cba99176a2a1",
   "metadata": {},
   "source": [
    "Similarly, to extract all authors as single string:"
   ]
  },
  {
   "cell_type": "code",
   "execution_count": 15,
   "id": "ce596ce0-89cb-40a3-b279-c08957300c92",
   "metadata": {},
   "outputs": [
    {
     "data": {
      "text/html": [
       "'Zeng TC, Vyazov LA, Kim A, Flegontov P, Sirak K, Maier R, Lazaridis I, Akbari A, Frachetti M, Tishkin AA, Ryabogina NE, Agapov SA, Agapov DS, Alekseev AN, Boeskorov GG, Derevianko AP, Dyakonov VM, Enshin DN, Fribus AV, Frolov YV, Grushin SP, Khokhlov AA, Kiryushin KY, Kiryushin YF, Kitov EP, Kosintsev P, Kovtun IV, Makarov NP, Morozov VV, Nikolaev EN, Rykun MP, Savenkova TM, Shchelchkova MV, Shirokov V, Skochina SN, Sherstobitova OS, Slepchenko SM, Solodovnikov KN, Solovyova EN, Stepanov AD, Timoshchenko AA, Vdovin AS, Vybornov AV, Balanovska EV, Dryomov S, Hellenthal G, Kidd K, Krause J, Starikovskaya E, Sukernik R, Tatarinova T, Thomas MG, Zhabagin M, Callan K, Cheronet O, Fernandes D, Keating D, Candilio F, Iliev L, Kearns A, Özdoğan KT, Mah M, Micco A, Michel M, Olalde I, Zalzala F, Mallick S, Rohland N, Pinhasi R, Narasimhan VM, Reich D'"
      ],
      "text/latex": [
       "'Zeng TC, Vyazov LA, Kim A, Flegontov P, Sirak K, Maier R, Lazaridis I, Akbari A, Frachetti M, Tishkin AA, Ryabogina NE, Agapov SA, Agapov DS, Alekseev AN, Boeskorov GG, Derevianko AP, Dyakonov VM, Enshin DN, Fribus AV, Frolov YV, Grushin SP, Khokhlov AA, Kiryushin KY, Kiryushin YF, Kitov EP, Kosintsev P, Kovtun IV, Makarov NP, Morozov VV, Nikolaev EN, Rykun MP, Savenkova TM, Shchelchkova MV, Shirokov V, Skochina SN, Sherstobitova OS, Slepchenko SM, Solodovnikov KN, Solovyova EN, Stepanov AD, Timoshchenko AA, Vdovin AS, Vybornov AV, Balanovska EV, Dryomov S, Hellenthal G, Kidd K, Krause J, Starikovskaya E, Sukernik R, Tatarinova T, Thomas MG, Zhabagin M, Callan K, Cheronet O, Fernandes D, Keating D, Candilio F, Iliev L, Kearns A, Özdoğan KT, Mah M, Micco A, Michel M, Olalde I, Zalzala F, Mallick S, Rohland N, Pinhasi R, Narasimhan VM, Reich D'"
      ],
      "text/markdown": [
       "'Zeng TC, Vyazov LA, Kim A, Flegontov P, Sirak K, Maier R, Lazaridis I, Akbari A, Frachetti M, Tishkin AA, Ryabogina NE, Agapov SA, Agapov DS, Alekseev AN, Boeskorov GG, Derevianko AP, Dyakonov VM, Enshin DN, Fribus AV, Frolov YV, Grushin SP, Khokhlov AA, Kiryushin KY, Kiryushin YF, Kitov EP, Kosintsev P, Kovtun IV, Makarov NP, Morozov VV, Nikolaev EN, Rykun MP, Savenkova TM, Shchelchkova MV, Shirokov V, Skochina SN, Sherstobitova OS, Slepchenko SM, Solodovnikov KN, Solovyova EN, Stepanov AD, Timoshchenko AA, Vdovin AS, Vybornov AV, Balanovska EV, Dryomov S, Hellenthal G, Kidd K, Krause J, Starikovskaya E, Sukernik R, Tatarinova T, Thomas MG, Zhabagin M, Callan K, Cheronet O, Fernandes D, Keating D, Candilio F, Iliev L, Kearns A, Özdoğan KT, Mah M, Micco A, Michel M, Olalde I, Zalzala F, Mallick S, Rohland N, Pinhasi R, Narasimhan VM, Reich D'"
      ],
      "text/plain": [
       "[1] \"Zeng TC, Vyazov LA, Kim A, Flegontov P, Sirak K, Maier R, Lazaridis I, Akbari A, Frachetti M, Tishkin AA, Ryabogina NE, Agapov SA, Agapov DS, Alekseev AN, Boeskorov GG, Derevianko AP, Dyakonov VM, Enshin DN, Fribus AV, Frolov YV, Grushin SP, Khokhlov AA, Kiryushin KY, Kiryushin YF, Kitov EP, Kosintsev P, Kovtun IV, Makarov NP, Morozov VV, Nikolaev EN, Rykun MP, Savenkova TM, Shchelchkova MV, Shirokov V, Skochina SN, Sherstobitova OS, Slepchenko SM, Solodovnikov KN, Solovyova EN, Stepanov AD, Timoshchenko AA, Vdovin AS, Vybornov AV, Balanovska EV, Dryomov S, Hellenthal G, Kidd K, Krause J, Starikovskaya E, Sukernik R, Tatarinova T, Thomas MG, Zhabagin M, Callan K, Cheronet O, Fernandes D, Keating D, Candilio F, Iliev L, Kearns A, Özdoğan KT, Mah M, Micco A, Michel M, Olalde I, Zalzala F, Mallick S, Rohland N, Pinhasi R, Narasimhan VM, Reich D\""
      ]
     },
     "metadata": {},
     "output_type": "display_data"
    }
   ],
   "source": [
    "esummary[[1]] %>% use_series(authors) %>% pull(name) %>% paste(collapse = \", \")"
   ]
  },
  {
   "cell_type": "markdown",
   "id": "3dbd4afb-cae4-4819-a691-31d3ff1d32e7",
   "metadata": {},
   "source": [
    "We can use the above code within a `lapply` call, which we will later use to add columns to our table, like this:"
   ]
  },
  {
   "cell_type": "code",
   "execution_count": 16,
   "id": "54bf5ded-40b6-4e17-979a-ca2677ffc6f5",
   "metadata": {},
   "outputs": [
    {
     "name": "stdout",
     "output_type": "stream",
     "text": [
      "List of 6\n",
      " $ 40604287: chr \"Zeng TC, Vyazov LA, Kim A, Flegontov P, Sirak K, Maier R, Lazaridis I, Akbari A, Frachetti M, Tishkin AA, Ryabo\"| __truncated__\n",
      " $ 40454862: chr \"Wiener P, Friedrich J, Marr MM, Simo G, Tanya VN, Ballingall KT, Flegontov P, Rosen BD, Sallé G, Spangler G, Va\"| __truncated__\n",
      " $ 40169722: chr \"Flegontova O, Işıldak U, Yüncü E, Williams MP, Huber CD, Kočí J, Vyazov LA, Changmai P, Flegontov P\"\n",
      " $ 39979458: chr \"Lazaridis I, Patterson N, Anthony D, Vyazov L, Fournier R, Ringbauer H, Olalde I, Khokhlov AA, Kitov EP, Shishl\"| __truncated__\n",
      " $ 39910300: chr \"Lazaridis I, Patterson N, Anthony D, Vyazov L, Fournier R, Ringbauer H, Olalde I, Khokhlov AA, Kitov EP, Shishl\"| __truncated__\n",
      " $ 39091721: chr \"Gyuris B, Vyazov L, Türk A, Flegontov P, Szeifert B, Langó P, Mende BG, Csáky V, Chizhevskiy AA, Gazimzyanov IR\"| __truncated__\n"
     ]
    }
   ],
   "source": [
    "esummary %>% head %>% \n",
    "    lapply(function(x) use_series(x, authors) %>% pull(name) %>% paste(collapse = \", \")) %>% str"
   ]
  },
  {
   "attachments": {},
   "cell_type": "markdown",
   "id": "96efee1c-ddd4-4ec1-a662-3ca47c7887f2",
   "metadata": {},
   "source": [
    "### Extract selected items into a table\n",
    "\n",
    "Some useful-looking items include:\n",
    "- authors\n",
    "- pubdate or sortpubdate\n",
    "- title\n",
    "- fulljournalname or source\n",
    "- issue\n",
    "- volume\n",
    "- pages\n",
    "- articleids\n",
    "\n",
    "I will start with the simple items first, puting them into a data frame. I will also tweak a few of them with `mutate`, e.g. to extract a year out of the publication date. I also noticed in our website template that BibTeX seems to use double dashes (`--`) to represent the longer m-dash for range of pages, so I'm tweaking that too."
   ]
  },
  {
   "cell_type": "code",
   "execution_count": 17,
   "id": "cdb063db-83dc-4a02-b1c6-c15dec522e6a",
   "metadata": {},
   "outputs": [
    {
     "name": "stdout",
     "output_type": "stream",
     "text": [
      "\u001b[90m# A tibble: 57 × 11\u001b[39m\n",
      "   uid      title  fulljournalname source pubdate sortpubdate issue volume pages\n",
      "   \u001b[3m\u001b[90m<chr>\u001b[39m\u001b[23m    \u001b[3m\u001b[90m<chr>\u001b[39m\u001b[23m  \u001b[3m\u001b[90m<chr>\u001b[39m\u001b[23m           \u001b[3m\u001b[90m<chr>\u001b[39m\u001b[23m  \u001b[3m\u001b[90m<chr>\u001b[39m\u001b[23m   \u001b[3m\u001b[90m<chr>\u001b[39m\u001b[23m       \u001b[3m\u001b[90m<chr>\u001b[39m\u001b[23m \u001b[3m\u001b[90m<chr>\u001b[39m\u001b[23m  \u001b[3m\u001b[90m<chr>\u001b[39m\u001b[23m\n",
      "\u001b[90m 1\u001b[39m 40604287 Ancie… Nature          Nature 2025 A… 2025/08/01… \u001b[90m\"\u001b[39m807… \u001b[90m\"\u001b[39m644\u001b[90m\"\u001b[39m  \u001b[90m\"\u001b[39m122…\n",
      "\u001b[90m 2\u001b[39m 40454862 Genom… Molecular ecol… Mol E… 2025 J… 2025/06/02… \u001b[90m\"\u001b[39m\u001b[90m\"\u001b[39m    \u001b[90m\"\u001b[39m\u001b[90m\"\u001b[39m     \u001b[90m\"\u001b[39me17…\n",
      "\u001b[90m 3\u001b[39m 40169722 Perfo… Genetics        Genet… 2025 M… 2025/05/08… \u001b[90m\"\u001b[39m1\u001b[90m\"\u001b[39m   \u001b[90m\"\u001b[39m230\u001b[90m\"\u001b[39m  \u001b[90m\"\u001b[39m\u001b[90m\"\u001b[39m   \n",
      "\u001b[90m 4\u001b[39m 39979458 Autho… Nature          Nature 2025 M… 2025/03/01… \u001b[90m\"\u001b[39m805… \u001b[90m\"\u001b[39m639\u001b[90m\"\u001b[39m  \u001b[90m\"\u001b[39mE14\u001b[90m\"\u001b[39m\n",
      "\u001b[90m 5\u001b[39m 39910300 The g… Nature          Nature 2025 M… 2025/03/01… \u001b[90m\"\u001b[39m805… \u001b[90m\"\u001b[39m639\u001b[90m\"\u001b[39m  \u001b[90m\"\u001b[39m132…\n",
      "\u001b[90m 6\u001b[39m 39091721 Long … bioRxiv : the … bioRx… 2024 J… 2024/07/23… \u001b[90m\"\u001b[39m\u001b[90m\"\u001b[39m    \u001b[90m\"\u001b[39m\u001b[90m\"\u001b[39m     \u001b[90m\"\u001b[39m\u001b[90m\"\u001b[39m   \n",
      "\u001b[90m 7\u001b[39m 39013011 Testi… Genetics        Genet… 2024 S… 2024/09/04… \u001b[90m\"\u001b[39m1\u001b[90m\"\u001b[39m   \u001b[90m\"\u001b[39m228\u001b[90m\"\u001b[39m  \u001b[90m\"\u001b[39m\u001b[90m\"\u001b[39m   \n",
      "\u001b[90m 8\u001b[39m 38659893 The G… bioRxiv : the … bioRx… 2024 A… 2024/04/18… \u001b[90m\"\u001b[39m\u001b[90m\"\u001b[39m    \u001b[90m\"\u001b[39m\u001b[90m\"\u001b[39m     \u001b[90m\"\u001b[39m\u001b[90m\"\u001b[39m   \n",
      "\u001b[90m 9\u001b[39m 38014190 Testi… bioRxiv : the … bioRx… 2023 N… 2023/11/15… \u001b[90m\"\u001b[39m\u001b[90m\"\u001b[39m    \u001b[90m\"\u001b[39m\u001b[90m\"\u001b[39m     \u001b[90m\"\u001b[39m\u001b[90m\"\u001b[39m   \n",
      "\u001b[90m10\u001b[39m 37904998 Perfo… bioRxiv : the … bioRx… 2025 F… 2025/02/03… \u001b[90m\"\u001b[39m\u001b[90m\"\u001b[39m    \u001b[90m\"\u001b[39m\u001b[90m\"\u001b[39m     \u001b[90m\"\u001b[39m\u001b[90m\"\u001b[39m   \n",
      "\u001b[90m# ℹ 47 more rows\u001b[39m\n",
      "\u001b[90m# ℹ 2 more variables: journalname <chr>, year <chr>\u001b[39m\n"
     ]
    }
   ],
   "source": [
    "papers <- esummary %>% \n",
    "    lapply(extract, c(\"uid\", \"title\", \"fulljournalname\", \"source\",\"pubdate\", \"sortpubdate\", \"issue\", \"volume\", \"pages\")) %>% \n",
    "    bind_rows %>% \n",
    "    mutate(\n",
    "        journalname = str_remove(fulljournalname, \":.*\"),\n",
    "        year = str_extract(sortpubdate, \"\\\\d{4}\"),\n",
    "        pages = str_replace(pages, \"-\",\"--\")\n",
    "    )\n",
    "\n",
    "papers %>% print"
   ]
  },
  {
   "attachments": {},
   "cell_type": "markdown",
   "id": "8e55fd29-d9e6-48ef-9398-9e3150c5b456",
   "metadata": {},
   "source": [
    "We see some missing data, e.g. in columns issue, volume, or pages. We can handle them later in a few ways.\n",
    "\n",
    "Now, we can add more columns with information parsed from the nested data frames:"
   ]
  },
  {
   "cell_type": "code",
   "execution_count": 18,
   "id": "647580b1-82d9-441b-9830-c08d34eb3fd5",
   "metadata": {},
   "outputs": [
    {
     "name": "stdout",
     "output_type": "stream",
     "text": [
      "Rows: 57\n",
      "Columns: 13\n",
      "$ uid             \u001b[3m\u001b[90m<chr>\u001b[39m\u001b[23m \"40604287\"\u001b[90m, \u001b[39m\"40454862\"\u001b[90m, \u001b[39m\"40169722\"\u001b[90m, \u001b[39m\"39979458\"\u001b[90m, \u001b[39m\"39910…\n",
      "$ title           \u001b[3m\u001b[90m<chr>\u001b[39m\u001b[23m \"Ancient DNA reveals the prehistory of the Uralic and …\n",
      "$ fulljournalname \u001b[3m\u001b[90m<chr>\u001b[39m\u001b[23m \"Nature\"\u001b[90m, \u001b[39m\"Molecular ecology\"\u001b[90m, \u001b[39m\"Genetics\"\u001b[90m, \u001b[39m\"Nature\"\u001b[90m, \u001b[39m\"…\n",
      "$ source          \u001b[3m\u001b[90m<chr>\u001b[39m\u001b[23m \"Nature\"\u001b[90m, \u001b[39m\"Mol Ecol\"\u001b[90m, \u001b[39m\"Genetics\"\u001b[90m, \u001b[39m\"Nature\"\u001b[90m, \u001b[39m\"Nature\"\u001b[90m, \u001b[39m…\n",
      "$ pubdate         \u001b[3m\u001b[90m<chr>\u001b[39m\u001b[23m \"2025 Aug\"\u001b[90m, \u001b[39m\"2025 Jun 2\"\u001b[90m, \u001b[39m\"2025 May 8\"\u001b[90m, \u001b[39m\"2025 Mar\"\u001b[90m, \u001b[39m\"2…\n",
      "$ sortpubdate     \u001b[3m\u001b[90m<chr>\u001b[39m\u001b[23m \"2025/08/01 00:00\"\u001b[90m, \u001b[39m\"2025/06/02 00:00\"\u001b[90m, \u001b[39m\"2025/05/08 00…\n",
      "$ issue           \u001b[3m\u001b[90m<chr>\u001b[39m\u001b[23m \"8075\"\u001b[90m, \u001b[39m\"\"\u001b[90m, \u001b[39m\"1\"\u001b[90m, \u001b[39m\"8054\"\u001b[90m, \u001b[39m\"8053\"\u001b[90m, \u001b[39m\"\"\u001b[90m, \u001b[39m\"1\"\u001b[90m, \u001b[39m\"\"\u001b[90m, \u001b[39m\"\"\u001b[90m, \u001b[39m\"\"\u001b[90m, \u001b[39m…\n",
      "$ volume          \u001b[3m\u001b[90m<chr>\u001b[39m\u001b[23m \"644\"\u001b[90m, \u001b[39m\"\"\u001b[90m, \u001b[39m\"230\"\u001b[90m, \u001b[39m\"639\"\u001b[90m, \u001b[39m\"639\"\u001b[90m, \u001b[39m\"\"\u001b[90m, \u001b[39m\"228\"\u001b[90m, \u001b[39m\"\"\u001b[90m, \u001b[39m\"\"\u001b[90m, \u001b[39m\"\"\u001b[90m,\u001b[39m…\n",
      "$ pages           \u001b[3m\u001b[90m<chr>\u001b[39m\u001b[23m \"122--132\"\u001b[90m, \u001b[39m\"e17796\"\u001b[90m, \u001b[39m\"\"\u001b[90m, \u001b[39m\"E14\"\u001b[90m, \u001b[39m\"132--142\"\u001b[90m, \u001b[39m\"\"\u001b[90m, \u001b[39m\"\"\u001b[90m, \u001b[39m\"…\n",
      "$ journalname     \u001b[3m\u001b[90m<chr>\u001b[39m\u001b[23m \"Nature\"\u001b[90m, \u001b[39m\"Molecular ecology\"\u001b[90m, \u001b[39m\"Genetics\"\u001b[90m, \u001b[39m\"Nature\"\u001b[90m, \u001b[39m\"…\n",
      "$ year            \u001b[3m\u001b[90m<chr>\u001b[39m\u001b[23m \"2025\"\u001b[90m, \u001b[39m\"2025\"\u001b[90m, \u001b[39m\"2025\"\u001b[90m, \u001b[39m\"2025\"\u001b[90m, \u001b[39m\"2025\"\u001b[90m, \u001b[39m\"2024\"\u001b[90m, \u001b[39m\"2024\"…\n",
      "$ doi             \u001b[3m\u001b[90m<named list>\u001b[39m\u001b[23m \"10.1038/s41586-025-09189-3\"\u001b[90m, \u001b[39m\"10.1111/mec.1779…\n",
      "$ authors         \u001b[3m\u001b[90m<named list>\u001b[39m\u001b[23m \"Zeng TC, Vyazov LA, Kim A, Flegontov P, Sirak …\n"
     ]
    }
   ],
   "source": [
    "papers$doi <- esummary %>% \n",
    "    lapply(function(x) use_series(x, articleids) %>% subset(idtype == \"doi\", select = value) %>% pluck(1))\n",
    "\n",
    "papers$authors <- esummary %>% \n",
    "    lapply(function(x) use_series(x, authors) %>% pull(name) %>% paste(collapse = \", \"))\n",
    "\n",
    "papers %>% glimpse"
   ]
  },
  {
   "cell_type": "markdown",
   "id": "88e7a943-77a5-4e55-8ead-0a8ac3189b16",
   "metadata": {},
   "source": [
    "## Converting to BibTeX with glue\n",
    "The basic bibtex format for one record (in this case an article) looks as follows:\n",
    "\n",
    "```\n",
    "@article{einstein1905electrodynamics,\n",
    "  title={On the electrodynamics of moving bodies},\n",
    "  author={Einstein, A.},\n",
    "  journal={Ann. Phys.},\n",
    "  year={1905},\n",
    "  number={17},\n",
    "  volume={10},\n",
    "  pages={891--921}\n",
    "}\n",
    "```\n",
    "\n",
    "Before I started, this part looked the most difficult, as I couldn't find any easy-to-use library for doing the conversion to BibTeX. But `glue` is so powerful that outputting a well-formated BibTeX was the easiest part of the process - it took me about 20 minutes to figure out all the details. And I never used `glue` before!\n",
    "\n",
    "> **Note:** When you load `tidyverse` (or just `stringr`) you already get access to `glue` functionality with `stringr::str_glue()`, which is an alias to `glue::glue()`. But I wanted to explicitly use the `glue` library to give it a well-deserved shout-out!\n",
    "\n",
    "Note that both BibTeX and `glue` use braces `{}` in their syntax, which can lead to collision, so I need to escape the braces in my `glue` code. This is done by triplicating them, so we use e.g. `{{{uid}}}` for the article ID. This is because the innermost pair of braces is interpreted by `glue` as a variable to be interpolated, while the two outer pairs insert literal braces required by BibTeX.\n",
    "\n",
    "Moreover, I use the function `glue_data()` here - which works on data frames, matrices, or lists - to process our data frame all at once:"
   ]
  },
  {
   "cell_type": "code",
   "execution_count": 19,
   "id": "4b0ea695-a61e-4b7b-820f-b852775b9db9",
   "metadata": {},
   "outputs": [],
   "source": [
    "bibtex <- papers %>% \n",
    "    glue_data(\"\n",
    "@article{{{uid},\n",
    "    author={{{authors}}},\n",
    "    year={{{year}}},\n",
    "    title={{{title}}},\n",
    "    journal={{{source}}},\n",
    "    number={{{issue}}},\n",
    "    volume={{{volume}}},\n",
    "    pages={{{pages}}},\n",
    "    doi={{{doi}}}\n",
    "}}\n",
    "\")"
   ]
  },
  {
   "cell_type": "markdown",
   "id": "f46c161e-955a-476a-9127-4bbf01c18804",
   "metadata": {},
   "source": [
    "Finally, we can write the resulting bibtex string into a file."
   ]
  },
  {
   "cell_type": "code",
   "execution_count": 20,
   "id": "64355eb0-a6a7-42e0-b381-ae04e8bf4345",
   "metadata": {},
   "outputs": [],
   "source": [
    "## write it into a file\n",
    "writeLines(bibtex, \"papers.bib\")"
   ]
  },
  {
   "cell_type": "markdown",
   "id": "ff302e8e-0b7c-4a9a-bc2c-ec42e7cd734e",
   "metadata": {},
   "source": [
    "Since some records have missing data for some items (such as pages for electronic-only journals), I pass the final file through the `sed` utility to remove these empty items from all records:"
   ]
  },
  {
   "cell_type": "code",
   "execution_count": 21,
   "id": "a437f691-9938-48b1-be57-ca77d3788164",
   "metadata": {},
   "outputs": [],
   "source": [
    "## remove empty fields\n",
    "system(\"sed -i '/{}/d' papers.bib\")"
   ]
  },
  {
   "cell_type": "markdown",
   "id": "7d8a5d0d-89e6-4b00-9239-b960c15d70a6",
   "metadata": {},
   "source": [
    "This probably won't work on Windows though (unless you run R in WSL). There should be a way to remove these empty fields directly in R, but I thought I've done enough coding for this project already, so I went with a simple Unix one-liner that I know will do the job just fine. It may also be the case that the Jekyll-scholar plugin can handle empty fields without issues, but I haven't tested it.\n",
    "\n",
    "One final corner case involves another detail - if any of the papers in my examples did not have a DOI, then the corresponding field would get deleted, which would leave a trailing comma at the end of the preceding line, which would lead to an error. This would be true for any item that you put as last, so be careful about missing data in this last item. I've checked that all the papers have DOI included, so it's not an issue here."
   ]
  },
  {
   "cell_type": "markdown",
   "id": "e8b23874-76d8-45f0-a316-4dfdd83683f0",
   "metadata": {},
   "source": [
    "Finally, this page was made with [Jupyter notebook](https://github.com/janxkoci/janxkoci.github.io/blob/master/notebooks/pubmed2bibtex.ipynb), which you can use to run your own queries. I have also prepared a brief version of the notebook, skipping over the exploratory parts, along with a script to run directly (e.g. in Rstudio, if you prefer), which you can get [here](https://gist.github.com/janxkoci/f6538194706103447b9826b653e6d7db)."
   ]
  }
 ],
 "metadata": {
  "kernelspec": {
   "display_name": "R",
   "language": "R",
   "name": "ir"
  },
  "language_info": {
   "codemirror_mode": "r",
   "file_extension": ".r",
   "mimetype": "text/x-r-source",
   "name": "R",
   "pygments_lexer": "r",
   "version": "4.4.3"
  }
 },
 "nbformat": 4,
 "nbformat_minor": 5
}
